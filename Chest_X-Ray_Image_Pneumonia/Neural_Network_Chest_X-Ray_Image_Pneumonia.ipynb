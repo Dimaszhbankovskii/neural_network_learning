{
 "cells": [
  {
   "cell_type": "markdown",
   "metadata": {},
   "source": [
    "Сonnection of libraries for creating a neural network architecture (tensorflow), processing data arrays (numpy) and visualization (matplotlib)."
   ]
  },
  {
   "cell_type": "code",
   "execution_count": 2,
   "metadata": {},
   "outputs": [
    {
     "name": "stderr",
     "output_type": "stream",
     "text": [
      "2021-12-22 22:18:41.461034: W tensorflow/stream_executor/platform/default/dso_loader.cc:64] Could not load dynamic library 'libcudart.so.11.0'; dlerror: libcudart.so.11.0: cannot open shared object file: No such file or directory\n",
      "2021-12-22 22:18:41.461055: I tensorflow/stream_executor/cuda/cudart_stub.cc:29] Ignore above cudart dlerror if you do not have a GPU set up on your machine.\n"
     ]
    }
   ],
   "source": [
    "from tensorflow.keras.models import Sequential\n",
    "from tensorflow.keras import utils\n",
    "from tensorflow.keras.preprocessing import image\n",
    "from tensorflow.keras.layers import Dense, Flatten\n",
    "from tensorflow.keras.layers import Dropout\n",
    "from tensorflow.keras.layers import Conv2D, MaxPooling2D\n",
    "from tensorflow.keras.optimizers import SGD\n",
    "from tensorflow.keras.preprocessing.image import ImageDataGenerator\n",
    "import numpy as np\n",
    "import matplotlib.pyplot as plt\n",
    "\n",
    "from PIL import Image"
   ]
  },
  {
   "cell_type": "markdown",
   "metadata": {},
   "source": [
    "Creation of neural network architecture. 3 convolution stages."
   ]
  },
  {
   "cell_type": "code",
   "execution_count": 3,
   "metadata": {},
   "outputs": [
    {
     "name": "stdout",
     "output_type": "stream",
     "text": [
      "Model: \"sequential\"\n",
      "_________________________________________________________________\n",
      " Layer (type)                Output Shape              Param #   \n",
      "=================================================================\n",
      " conv2d (Conv2D)             (None, 480, 750, 20)      560       \n",
      "                                                                 \n",
      " conv2d_1 (Conv2D)           (None, 480, 750, 20)      3620      \n",
      "                                                                 \n",
      " max_pooling2d (MaxPooling2D  (None, 160, 250, 20)     0         \n",
      " )                                                               \n",
      "                                                                 \n",
      " conv2d_2 (Conv2D)           (None, 160, 250, 40)      7240      \n",
      "                                                                 \n",
      " conv2d_3 (Conv2D)           (None, 160, 250, 40)      14440     \n",
      "                                                                 \n",
      " max_pooling2d_1 (MaxPooling  (None, 53, 83, 40)       0         \n",
      " 2D)                                                             \n",
      "                                                                 \n",
      " dropout (Dropout)           (None, 53, 83, 40)        0         \n",
      "                                                                 \n",
      " conv2d_4 (Conv2D)           (None, 53, 83, 100)       36100     \n",
      "                                                                 \n",
      " conv2d_5 (Conv2D)           (None, 53, 83, 100)       90100     \n",
      "                                                                 \n",
      " max_pooling2d_2 (MaxPooling  (None, 17, 27, 100)      0         \n",
      " 2D)                                                             \n",
      "                                                                 \n",
      " dropout_1 (Dropout)         (None, 17, 27, 100)       0         \n",
      "                                                                 \n",
      " flatten (Flatten)           (None, 45900)             0         \n",
      "                                                                 \n",
      " dense (Dense)               (None, 100)               4590100   \n",
      "                                                                 \n",
      " dense_1 (Dense)             (None, 300)               30300     \n",
      "                                                                 \n",
      " dense_2 (Dense)             (None, 100)               30100     \n",
      "                                                                 \n",
      " dense_3 (Dense)             (None, 1)                 101       \n",
      "                                                                 \n",
      "=================================================================\n",
      "Total params: 4,802,661\n",
      "Trainable params: 4,802,661\n",
      "Non-trainable params: 0\n",
      "_________________________________________________________________\n",
      "None\n"
     ]
    },
    {
     "name": "stderr",
     "output_type": "stream",
     "text": [
      "2021-12-22 22:18:44.776681: I tensorflow/stream_executor/cuda/cuda_gpu_executor.cc:939] successful NUMA node read from SysFS had negative value (-1), but there must be at least one NUMA node, so returning NUMA node zero\n",
      "2021-12-22 22:18:44.777020: W tensorflow/stream_executor/platform/default/dso_loader.cc:64] Could not load dynamic library 'libcudart.so.11.0'; dlerror: libcudart.so.11.0: cannot open shared object file: No such file or directory\n",
      "2021-12-22 22:18:44.777059: W tensorflow/stream_executor/platform/default/dso_loader.cc:64] Could not load dynamic library 'libcublas.so.11'; dlerror: libcublas.so.11: cannot open shared object file: No such file or directory\n",
      "2021-12-22 22:18:44.777094: W tensorflow/stream_executor/platform/default/dso_loader.cc:64] Could not load dynamic library 'libcublasLt.so.11'; dlerror: libcublasLt.so.11: cannot open shared object file: No such file or directory\n",
      "2021-12-22 22:18:44.777129: W tensorflow/stream_executor/platform/default/dso_loader.cc:64] Could not load dynamic library 'libcufft.so.10'; dlerror: libcufft.so.10: cannot open shared object file: No such file or directory\n",
      "2021-12-22 22:18:44.777164: W tensorflow/stream_executor/platform/default/dso_loader.cc:64] Could not load dynamic library 'libcurand.so.10'; dlerror: libcurand.so.10: cannot open shared object file: No such file or directory\n",
      "2021-12-22 22:18:44.777199: W tensorflow/stream_executor/platform/default/dso_loader.cc:64] Could not load dynamic library 'libcusolver.so.11'; dlerror: libcusolver.so.11: cannot open shared object file: No such file or directory\n",
      "2021-12-22 22:18:44.777232: W tensorflow/stream_executor/platform/default/dso_loader.cc:64] Could not load dynamic library 'libcusparse.so.11'; dlerror: libcusparse.so.11: cannot open shared object file: No such file or directory\n",
      "2021-12-22 22:18:44.777267: W tensorflow/stream_executor/platform/default/dso_loader.cc:64] Could not load dynamic library 'libcudnn.so.8'; dlerror: libcudnn.so.8: cannot open shared object file: No such file or directory\n",
      "2021-12-22 22:18:44.777274: W tensorflow/core/common_runtime/gpu/gpu_device.cc:1850] Cannot dlopen some GPU libraries. Please make sure the missing libraries mentioned above are installed properly if you would like to use GPU. Follow the guide at https://www.tensorflow.org/install/gpu for how to download and setup the required libraries for your platform.\n",
      "Skipping registering GPU devices...\n",
      "2021-12-22 22:18:44.777517: I tensorflow/core/platform/cpu_feature_guard.cc:151] This TensorFlow binary is optimized with oneAPI Deep Neural Network Library (oneDNN) to use the following CPU instructions in performance-critical operations:  AVX2 FMA\n",
      "To enable them in other operations, rebuild TensorFlow with the appropriate compiler flags.\n"
     ]
    }
   ],
   "source": [
    "np.random.seed(1)\n",
    "shape=(480,750)\n",
    "\n",
    "model = Sequential()\n",
    "model.add(Conv2D(20, (3, 3), padding='same', input_shape=(480,750, 3), activation='relu'))\n",
    "model.add(Conv2D(20, (3, 3), padding='same', activation='relu'))\n",
    "model.add(MaxPooling2D(pool_size=(3, 3)))\n",
    "\n",
    "model.add(Conv2D(40, (3, 3), padding='same', activation='relu'))\n",
    "model.add(Conv2D(40, (3, 3), padding='same', activation='relu'))\n",
    "model.add(MaxPooling2D(pool_size=(3, 3)))\n",
    "model.add(Dropout(0.2))\n",
    "\n",
    "model.add(Conv2D(100, (3, 3), padding='same', activation='relu'))\n",
    "model.add(Conv2D(100, (3, 3), padding='same', activation='relu'))\n",
    "model.add(MaxPooling2D(pool_size=(3, 3)))\n",
    "model.add(Dropout(0.2))\n",
    "\n",
    "model.add(Flatten())\n",
    "\n",
    "#model.add(Dense(600, activation='tanh'))\n",
    "model.add(Dense(100, activation='relu'))\n",
    "model.add(Dense(300, activation='relu'))\n",
    "model.add(Dense(100, activation='relu'))\n",
    "\n",
    "model.add(Dense(1, activation='sigmoid'))\n",
    "\n",
    "print(model.summary())"
   ]
  },
  {
   "cell_type": "code",
   "execution_count": 4,
   "metadata": {},
   "outputs": [],
   "source": [
    "model.compile(loss='binary_crossentropy', optimizer='SGD', metrics=['binary_accuracy'])"
   ]
  },
  {
   "cell_type": "markdown",
   "metadata": {},
   "source": [
    "Loading data for neural network training and testing."
   ]
  },
  {
   "cell_type": "code",
   "execution_count": 5,
   "metadata": {},
   "outputs": [
    {
     "name": "stdout",
     "output_type": "stream",
     "text": [
      "Found 5216 images belonging to 2 classes.\n",
      "Found 624 images belonging to 2 classes.\n"
     ]
    }
   ],
   "source": [
    "datagen=ImageDataGenerator(rescale=1/255)\n",
    "\n",
    "train_dir = '/home/dimasik/pneumonia/chest_xray/train'\n",
    "train_generator=datagen.flow_from_directory(train_dir,target_size=shape, batch_size=50, class_mode='binary')  \n",
    "\n",
    "test_dir= \"/home/dimasik/pneumonia/chest_xray/test\"\n",
    "test_generator=datagen.flow_from_directory(test_dir, target_size=shape, batch_size=10, class_mode='binary')"
   ]
  },
  {
   "cell_type": "code",
   "execution_count": 6,
   "metadata": {},
   "outputs": [
    {
     "name": "stderr",
     "output_type": "stream",
     "text": [
      "/tmp/ipykernel_35935/3300642133.py:1: UserWarning: `Model.fit_generator` is deprecated and will be removed in a future version. Please use `Model.fit`, which supports generators.\n",
      "  model.fit_generator(\n"
     ]
    },
    {
     "name": "stdout",
     "output_type": "stream",
     "text": [
      "Epoch 1/100\n"
     ]
    },
    {
     "name": "stderr",
     "output_type": "stream",
     "text": [
      "2021-12-22 22:19:33.500953: W tensorflow/core/framework/cpu_allocator_impl.cc:82] Allocation of 1440000000 exceeds 10% of free system memory.\n",
      "2021-12-22 22:19:33.853571: W tensorflow/core/framework/cpu_allocator_impl.cc:82] Allocation of 1440000000 exceeds 10% of free system memory.\n",
      "2021-12-22 22:19:38.322742: W tensorflow/core/framework/cpu_allocator_impl.cc:82] Allocation of 1440000000 exceeds 10% of free system memory.\n",
      "2021-12-22 22:19:39.217585: W tensorflow/core/framework/cpu_allocator_impl.cc:82] Allocation of 1440000000 exceeds 10% of free system memory.\n"
     ]
    },
    {
     "name": "stdout",
     "output_type": "stream",
     "text": [
      "\r",
      "1/5 [=====>........................] - ETA: 57s - loss: 0.7006 - binary_accuracy: 0.1400"
     ]
    },
    {
     "name": "stderr",
     "output_type": "stream",
     "text": [
      "2021-12-22 22:19:47.048930: W tensorflow/core/framework/cpu_allocator_impl.cc:82] Allocation of 1440000000 exceeds 10% of free system memory.\n"
     ]
    },
    {
     "name": "stdout",
     "output_type": "stream",
     "text": [
      "5/5 [==============================] - 69s 14s/step - loss: 0.6918 - binary_accuracy: 0.5400\n",
      "Epoch 2/100\n",
      "5/5 [==============================] - 69s 14s/step - loss: 0.6772 - binary_accuracy: 0.7680\n",
      "Epoch 3/100\n",
      "5/5 [==============================] - 60s 11s/step - loss: 0.6651 - binary_accuracy: 0.7593\n",
      "Epoch 4/100\n",
      "5/5 [==============================] - 69s 14s/step - loss: 0.6664 - binary_accuracy: 0.6760\n",
      "Epoch 5/100\n",
      "5/5 [==============================] - 69s 14s/step - loss: 0.6362 - binary_accuracy: 0.7640\n",
      "Epoch 6/100\n",
      "5/5 [==============================] - 69s 14s/step - loss: 0.6074 - binary_accuracy: 0.7720\n",
      "Epoch 7/100\n",
      "5/5 [==============================] - 69s 14s/step - loss: 0.6007 - binary_accuracy: 0.7360\n",
      "Epoch 8/100\n",
      "5/5 [==============================] - 69s 14s/step - loss: 0.5987 - binary_accuracy: 0.7280\n",
      "Epoch 9/100\n",
      "5/5 [==============================] - 69s 14s/step - loss: 0.6212 - binary_accuracy: 0.6920\n",
      "Epoch 10/100\n",
      "5/5 [==============================] - 69s 14s/step - loss: 0.5550 - binary_accuracy: 0.7680\n",
      "Epoch 11/100\n",
      "5/5 [==============================] - 69s 14s/step - loss: 0.6164 - binary_accuracy: 0.6960\n",
      "Epoch 12/100\n",
      "5/5 [==============================] - 69s 14s/step - loss: 0.5529 - binary_accuracy: 0.7640\n",
      "Epoch 13/100\n",
      "5/5 [==============================] - 70s 14s/step - loss: 0.5950 - binary_accuracy: 0.7200\n",
      "Epoch 14/100\n",
      "5/5 [==============================] - 69s 14s/step - loss: 0.5043 - binary_accuracy: 0.8040\n",
      "Epoch 15/100\n",
      "5/5 [==============================] - 69s 14s/step - loss: 0.6382 - binary_accuracy: 0.6760\n",
      "Epoch 16/100\n",
      "5/5 [==============================] - 70s 14s/step - loss: 0.5615 - binary_accuracy: 0.7520\n",
      "Epoch 17/100\n",
      "5/5 [==============================] - 69s 14s/step - loss: 0.5696 - binary_accuracy: 0.7360\n",
      "Epoch 18/100\n",
      "5/5 [==============================] - 69s 14s/step - loss: 0.5768 - binary_accuracy: 0.7240\n",
      "Epoch 19/100\n",
      "5/5 [==============================] - 69s 14s/step - loss: 0.5539 - binary_accuracy: 0.7400\n",
      "Epoch 20/100\n",
      "5/5 [==============================] - 70s 14s/step - loss: 0.5547 - binary_accuracy: 0.7360\n",
      "Epoch 21/100\n",
      "5/5 [==============================] - 69s 14s/step - loss: 0.5746 - binary_accuracy: 0.7040\n",
      "Epoch 22/100\n",
      "5/5 [==============================] - 70s 14s/step - loss: 0.5865 - binary_accuracy: 0.6720\n",
      "Epoch 23/100\n",
      "5/5 [==============================] - 69s 14s/step - loss: 0.4774 - binary_accuracy: 0.7760\n",
      "Epoch 24/100\n",
      "5/5 [==============================] - 69s 14s/step - loss: 0.5286 - binary_accuracy: 0.7520\n",
      "Epoch 25/100\n",
      "5/5 [==============================] - 70s 14s/step - loss: 0.4983 - binary_accuracy: 0.7680\n",
      "Epoch 26/100\n",
      "5/5 [==============================] - 69s 14s/step - loss: 0.4996 - binary_accuracy: 0.7960\n",
      "Epoch 27/100\n",
      "5/5 [==============================] - 69s 14s/step - loss: 0.5258 - binary_accuracy: 0.7840\n",
      "Epoch 28/100\n",
      "5/5 [==============================] - 70s 14s/step - loss: 0.5150 - binary_accuracy: 0.8000\n",
      "Epoch 29/100\n",
      "5/5 [==============================] - 69s 14s/step - loss: 0.5133 - binary_accuracy: 0.7840\n",
      "Epoch 30/100\n",
      "5/5 [==============================] - 69s 14s/step - loss: 0.5530 - binary_accuracy: 0.6840\n",
      "Epoch 31/100\n",
      "5/5 [==============================] - 70s 14s/step - loss: 0.4214 - binary_accuracy: 0.7800\n",
      "Epoch 32/100\n",
      "5/5 [==============================] - 72s 14s/step - loss: 0.5150 - binary_accuracy: 0.7960\n",
      "Epoch 33/100\n",
      "5/5 [==============================] - 70s 14s/step - loss: 0.5926 - binary_accuracy: 0.6440\n",
      "Epoch 34/100\n",
      "5/5 [==============================] - 69s 14s/step - loss: 0.4735 - binary_accuracy: 0.7840\n",
      "Epoch 35/100\n",
      "5/5 [==============================] - 70s 14s/step - loss: 0.4851 - binary_accuracy: 0.7880\n",
      "Epoch 36/100\n",
      "5/5 [==============================] - 70s 14s/step - loss: 0.4496 - binary_accuracy: 0.8080\n",
      "Epoch 37/100\n",
      "5/5 [==============================] - 70s 14s/step - loss: 0.5601 - binary_accuracy: 0.6760\n",
      "Epoch 38/100\n",
      "5/5 [==============================] - 70s 14s/step - loss: 0.3783 - binary_accuracy: 0.8440\n",
      "Epoch 39/100\n",
      "5/5 [==============================] - 70s 14s/step - loss: 0.6248 - binary_accuracy: 0.7360\n",
      "Epoch 40/100\n",
      "5/5 [==============================] - 69s 14s/step - loss: 0.4577 - binary_accuracy: 0.7720\n",
      "Epoch 41/100\n",
      "5/5 [==============================] - 69s 14s/step - loss: 0.3865 - binary_accuracy: 0.8360\n",
      "Epoch 42/100\n",
      "5/5 [==============================] - 69s 14s/step - loss: 0.4144 - binary_accuracy: 0.8240\n",
      "Epoch 43/100\n",
      "5/5 [==============================] - 60s 11s/step - loss: 0.4198 - binary_accuracy: 0.7963\n",
      "Epoch 44/100\n",
      "5/5 [==============================] - 70s 14s/step - loss: 0.5869 - binary_accuracy: 0.7560\n",
      "Epoch 45/100\n",
      "5/5 [==============================] - 70s 14s/step - loss: 0.3674 - binary_accuracy: 0.8440\n",
      "Epoch 46/100\n",
      "5/5 [==============================] - 69s 14s/step - loss: 0.4438 - binary_accuracy: 0.8000\n",
      "Epoch 47/100\n",
      "5/5 [==============================] - 69s 14s/step - loss: 0.2712 - binary_accuracy: 0.9000\n",
      "Epoch 48/100\n",
      "5/5 [==============================] - 70s 14s/step - loss: 0.4902 - binary_accuracy: 0.7680\n",
      "Epoch 49/100\n",
      "5/5 [==============================] - 69s 14s/step - loss: 0.3947 - binary_accuracy: 0.8440\n",
      "Epoch 50/100\n",
      "5/5 [==============================] - 69s 14s/step - loss: 0.5548 - binary_accuracy: 0.6960\n",
      "Epoch 51/100\n",
      "5/5 [==============================] - 69s 14s/step - loss: 0.3249 - binary_accuracy: 0.8760\n",
      "Epoch 52/100\n",
      "5/5 [==============================] - 70s 14s/step - loss: 0.2798 - binary_accuracy: 0.9080\n",
      "Epoch 53/100\n",
      "5/5 [==============================] - 70s 14s/step - loss: 0.3822 - binary_accuracy: 0.8400\n",
      "Epoch 54/100\n",
      "5/5 [==============================] - 69s 14s/step - loss: 0.3747 - binary_accuracy: 0.8560\n",
      "Epoch 55/100\n",
      "5/5 [==============================] - 70s 14s/step - loss: 0.3904 - binary_accuracy: 0.8440\n",
      "Epoch 56/100\n",
      "5/5 [==============================] - 69s 14s/step - loss: 0.3016 - binary_accuracy: 0.8680\n",
      "Epoch 57/100\n",
      "5/5 [==============================] - 70s 14s/step - loss: 0.5198 - binary_accuracy: 0.7480\n",
      "Epoch 58/100\n",
      "5/5 [==============================] - 70s 14s/step - loss: 0.3334 - binary_accuracy: 0.8840\n",
      "Epoch 59/100\n",
      "5/5 [==============================] - 60s 11s/step - loss: 0.2768 - binary_accuracy: 0.9167\n",
      "Epoch 60/100\n",
      "5/5 [==============================] - 70s 14s/step - loss: 0.3210 - binary_accuracy: 0.8800\n",
      "Epoch 61/100\n",
      "5/5 [==============================] - 70s 14s/step - loss: 0.5134 - binary_accuracy: 0.7240\n",
      "Epoch 62/100\n",
      "5/5 [==============================] - 70s 14s/step - loss: 0.2813 - binary_accuracy: 0.9080\n",
      "Epoch 63/100\n",
      "5/5 [==============================] - 70s 14s/step - loss: 0.2522 - binary_accuracy: 0.9080\n",
      "Epoch 64/100\n",
      "5/5 [==============================] - 69s 14s/step - loss: 0.3532 - binary_accuracy: 0.8520\n",
      "Epoch 65/100\n",
      "5/5 [==============================] - 60s 14s/step - loss: 0.2310 - binary_accuracy: 0.9213\n",
      "Epoch 66/100\n",
      "5/5 [==============================] - 69s 14s/step - loss: 0.2300 - binary_accuracy: 0.9120\n",
      "Epoch 67/100\n",
      "5/5 [==============================] - 69s 14s/step - loss: 0.4916 - binary_accuracy: 0.8160\n",
      "Epoch 68/100\n",
      "5/5 [==============================] - 70s 14s/step - loss: 0.2406 - binary_accuracy: 0.9200\n",
      "Epoch 69/100\n",
      "5/5 [==============================] - 69s 14s/step - loss: 0.1947 - binary_accuracy: 0.9160\n",
      "Epoch 70/100\n",
      "5/5 [==============================] - 69s 14s/step - loss: 0.3131 - binary_accuracy: 0.8840\n",
      "Epoch 71/100\n",
      "5/5 [==============================] - 70s 14s/step - loss: 0.1877 - binary_accuracy: 0.9240\n",
      "Epoch 72/100\n",
      "5/5 [==============================] - 69s 14s/step - loss: 0.2026 - binary_accuracy: 0.9200\n",
      "Epoch 73/100\n",
      "5/5 [==============================] - 70s 14s/step - loss: 0.2935 - binary_accuracy: 0.8800\n",
      "Epoch 74/100\n",
      "5/5 [==============================] - 69s 14s/step - loss: 0.2103 - binary_accuracy: 0.9080\n",
      "Epoch 75/100\n",
      "5/5 [==============================] - 70s 14s/step - loss: 0.1925 - binary_accuracy: 0.9440\n",
      "Epoch 76/100\n",
      "5/5 [==============================] - 69s 14s/step - loss: 0.2543 - binary_accuracy: 0.8840\n",
      "Epoch 77/100\n",
      "5/5 [==============================] - 69s 14s/step - loss: 0.2354 - binary_accuracy: 0.8920\n",
      "Epoch 78/100\n",
      "5/5 [==============================] - 70s 14s/step - loss: 0.2306 - binary_accuracy: 0.8840\n",
      "Epoch 79/100\n",
      "5/5 [==============================] - 69s 14s/step - loss: 0.2144 - binary_accuracy: 0.9000\n",
      "Epoch 80/100\n",
      "5/5 [==============================] - 70s 14s/step - loss: 0.1411 - binary_accuracy: 0.9440\n",
      "Epoch 81/100\n",
      "5/5 [==============================] - 70s 14s/step - loss: 0.1962 - binary_accuracy: 0.9280\n",
      "Epoch 82/100\n",
      "5/5 [==============================] - 69s 14s/step - loss: 0.1561 - binary_accuracy: 0.9360\n",
      "Epoch 83/100\n",
      "5/5 [==============================] - 69s 14s/step - loss: 0.1604 - binary_accuracy: 0.9400\n",
      "Epoch 84/100\n",
      "5/5 [==============================] - 69s 14s/step - loss: 0.1711 - binary_accuracy: 0.9240\n",
      "Epoch 85/100\n",
      "5/5 [==============================] - 69s 14s/step - loss: 0.1573 - binary_accuracy: 0.9360\n",
      "Epoch 86/100\n",
      "5/5 [==============================] - 69s 14s/step - loss: 0.2571 - binary_accuracy: 0.8880\n",
      "Epoch 87/100\n",
      "5/5 [==============================] - 60s 14s/step - loss: 0.1172 - binary_accuracy: 0.9537\n",
      "Epoch 88/100\n",
      "5/5 [==============================] - 71s 14s/step - loss: 0.3938 - binary_accuracy: 0.8680\n",
      "Epoch 89/100\n",
      "5/5 [==============================] - 70s 14s/step - loss: 0.1424 - binary_accuracy: 0.9600\n",
      "Epoch 90/100\n",
      "5/5 [==============================] - 69s 14s/step - loss: 0.1668 - binary_accuracy: 0.9440\n",
      "Epoch 91/100\n",
      "5/5 [==============================] - 69s 14s/step - loss: 0.1468 - binary_accuracy: 0.9400\n",
      "Epoch 92/100\n",
      "5/5 [==============================] - 70s 14s/step - loss: 0.1630 - binary_accuracy: 0.9400\n",
      "Epoch 93/100\n",
      "5/5 [==============================] - 69s 14s/step - loss: 0.1678 - binary_accuracy: 0.9360\n",
      "Epoch 94/100\n",
      "5/5 [==============================] - 69s 14s/step - loss: 0.1857 - binary_accuracy: 0.9240\n",
      "Epoch 95/100\n",
      "5/5 [==============================] - 70s 14s/step - loss: 0.2126 - binary_accuracy: 0.9240\n",
      "Epoch 96/100\n",
      "5/5 [==============================] - 69s 14s/step - loss: 0.1657 - binary_accuracy: 0.9400\n",
      "Epoch 97/100\n",
      "5/5 [==============================] - 60s 14s/step - loss: 0.1475 - binary_accuracy: 0.9398\n",
      "Epoch 98/100\n",
      "5/5 [==============================] - 69s 14s/step - loss: 0.1413 - binary_accuracy: 0.9600\n",
      "Epoch 99/100\n",
      "5/5 [==============================] - 70s 14s/step - loss: 0.1012 - binary_accuracy: 0.9760\n",
      "Epoch 100/100\n",
      "5/5 [==============================] - 70s 14s/step - loss: 0.1258 - binary_accuracy: 0.9560\n"
     ]
    },
    {
     "data": {
      "text/plain": [
       "<keras.callbacks.History at 0x7f335c4f85e0>"
      ]
     },
     "execution_count": 6,
     "metadata": {},
     "output_type": "execute_result"
    }
   ],
   "source": [
    "model.fit_generator(\n",
    "    train_generator,\n",
    "    steps_per_epoch=5,\n",
    "    epochs=100,\n",
    "    shuffle=True,\n",
    "    verbose=1)"
   ]
  },
  {
   "cell_type": "code",
   "execution_count": 7,
   "metadata": {},
   "outputs": [
    {
     "name": "stderr",
     "output_type": "stream",
     "text": [
      "/tmp/ipykernel_35935/3226677181.py:1: UserWarning: `Model.evaluate_generator` is deprecated and will be removed in a future version. Please use `Model.evaluate`, which supports generators.\n",
      "  var1 = model.evaluate_generator(test_generator, steps=100,verbose=1)\n"
     ]
    },
    {
     "name": "stdout",
     "output_type": "stream",
     "text": [
      " 63/100 [=================>............] - ETA: 13s - loss: 0.8171 - binary_accuracy: 0.7404WARNING:tensorflow:Your input ran out of data; interrupting training. Make sure that your dataset or generator can generate at least `steps_per_epoch * epochs` batches (in this case, 100 batches). You may need to use the repeat() function when building your dataset.\n",
      "100/100 [==============================] - 23s 227ms/step - loss: 0.8171 - binary_accuracy: 0.7404\n",
      "Доля верных ответов на тестовых данных, в процентах: 74.0385\n"
     ]
    }
   ],
   "source": [
    "var1 = model.evaluate_generator(test_generator, steps=100,verbose=1)\n",
    "print(\"Доля верных ответов на тестовых данных, в процентах:\", round(var1[1] * 100, 4))"
   ]
  },
  {
   "cell_type": "markdown",
   "metadata": {},
   "source": [
    "Testing and visualization of the results of the neural network with the data of one patient."
   ]
  },
  {
   "cell_type": "code",
   "execution_count": 8,
   "metadata": {},
   "outputs": [
    {
     "data": {
      "image/png": "[encoded data removed]",
      "text/plain": [
       "<Figure size 432x288 with 1 Axes>"
      ]
     },
     "metadata": {
      "needs_background": "light"
     },
     "output_type": "display_data"
    }
   ],
   "source": [
    "img_path = '/home/dimasik/pneumonia/chest_xray/test/PNEUMONIA/person152_bacteria_721.jpeg'\n",
    "img = image.load_img(img_path, target_size =(480,750), color_mode = \"rgb\")\n",
    "\n",
    "plt.imshow(img.convert('RGBA'))\n",
    "plt.show()"
   ]
  },
  {
   "cell_type": "code",
   "execution_count": 9,
   "metadata": {},
   "outputs": [],
   "source": [
    "arrImg = image.img_to_array(img)\n",
    "arrImg = arrImg.reshape(1,480,750,3)\n",
    "arrImg /= 255\n",
    "# print(arrImg)"
   ]
  },
  {
   "cell_type": "markdown",
   "metadata": {},
   "source": [
    "Registration of pneumonia by x-ray image. Result 0 - pneumonia."
   ]
  },
  {
   "cell_type": "code",
   "execution_count": 10,
   "metadata": {},
   "outputs": [
    {
     "name": "stdout",
     "output_type": "stream",
     "text": [
      "Результат с выхода сети:  0\n"
     ]
    }
   ],
   "source": [
    "prediction = model.predict(arrImg)\n",
    "print(\"Результат с выхода сети: \", np.argmax(prediction[0]))"
   ]
  }
 ],
 "metadata": {
  "kernelspec": {
   "display_name": "Python 3 (ipykernel)",
   "language": "python",
   "name": "python3"
  },
  "language_info": {
   "codemirror_mode": {
    "name": "ipython",
    "version": 3
   },
   "file_extension": ".py",
   "mimetype": "text/x-python",
   "name": "python",
   "nbconvert_exporter": "python",
   "pygments_lexer": "ipython3",
   "version": "3.7.6"
  }
 },
 "nbformat": 4,
 "nbformat_minor": 5
}
